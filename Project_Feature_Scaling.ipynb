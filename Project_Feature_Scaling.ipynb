{
  "cells": [
    {
      "cell_type": "markdown",
      "metadata": {
        "id": "view-in-github",
        "colab_type": "text"
      },
      "source": [
        "<a href=\"https://colab.research.google.com/github/stevengregori92/Project-Feature-Scaling/blob/main/Project_Feature_Scaling.ipynb\" target=\"_parent\"><img src=\"https://colab.research.google.com/assets/colab-badge.svg\" alt=\"Open In Colab\"/></a>"
      ]
    },
    {
      "cell_type": "markdown",
      "id": "39c877c9",
      "metadata": {
        "id": "39c877c9"
      },
      "source": [
        "# Project - Feature Scaling"
      ]
    },
    {
      "cell_type": "markdown",
      "id": "26869a35",
      "metadata": {
        "id": "26869a35"
      },
      "source": [
        "![Data Science Workflow](img/ds-workflow.png)"
      ]
    },
    {
      "cell_type": "markdown",
      "id": "7fc443c2",
      "metadata": {
        "id": "7fc443c2"
      },
      "source": [
        "## Goal of Project\n",
        "- A sport magazine is writing an article on soccer players\n",
        "- They have a special interest in left-footed players\n",
        "- A question is whether they playing style can predict if a player is left-footed\n",
        "- The questions they want to answer:\n",
        "    - Can you from a features set on players predict if it is left-footed player\n",
        "    - If so, what features matters the most"
      ]
    },
    {
      "cell_type": "markdown",
      "id": "77f362c4",
      "metadata": {
        "id": "77f362c4"
      },
      "source": [
        "## Step 1: Acquire\n",
        "- Explore problem\n",
        "- Identify data\n",
        "- Import data"
      ]
    },
    {
      "cell_type": "markdown",
      "id": "6f8cbbcb",
      "metadata": {
        "id": "6f8cbbcb"
      },
      "source": [
        "### Step 1.a: Import libraries\n",
        "- Execute the cell below (SHIFT + ENTER)"
      ]
    },
    {
      "cell_type": "code",
      "execution_count": null,
      "id": "0670a957",
      "metadata": {
        "id": "0670a957"
      },
      "outputs": [],
      "source": [
        "import numpy as np\n",
        "import pandas as pd\n",
        "from sklearn.preprocessing import MinMaxScaler\n",
        "from sklearn.preprocessing import StandardScaler\n",
        "from sklearn.model_selection import train_test_split\n",
        "from sklearn.metrics import accuracy_score\n",
        "from sklearn.inspection import permutation_importance\n",
        "from sklearn.svm import SVC\n",
        "import matplotlib.pyplot as plt\n",
        "%matplotlib inline"
      ]
    },
    {
      "cell_type": "markdown",
      "id": "b5f9a799",
      "metadata": {
        "id": "b5f9a799"
      },
      "source": [
        "### Step 1.b: Read the data\n",
        "- Use ```pd.read_parquet()``` to read the file `files/soccer.parquet`\n",
        "    - The data is from [Kaggle European Soccer Database](https://www.kaggle.com/hugomathien/soccer)\n",
        "- NOTE: Remember to assign the result to a variable (e.g., ```data```)\n",
        "- Apply ```.head()``` on the data to see all is as expected"
      ]
    },
    {
      "cell_type": "code",
      "execution_count": null,
      "id": "6c2a0e7a",
      "metadata": {
        "colab": {
          "base_uri": "https://localhost:8080/",
          "height": 504
        },
        "id": "6c2a0e7a",
        "outputId": "896bb5d6-30a3-4ea7-871f-4b1de90e9112"
      },
      "outputs": [
        {
          "output_type": "execute_result",
          "data": {
            "text/plain": [
              "    player_fifa_api_id  player_api_id                 date  overall_rating  \\\n",
              "id                                                                           \n",
              "1               218353         505942  2016-02-18 00:00:00            67.0   \n",
              "2               218353         505942  2015-11-19 00:00:00            67.0   \n",
              "3               218353         505942  2015-09-21 00:00:00            62.0   \n",
              "4               218353         505942  2015-03-20 00:00:00            61.0   \n",
              "5               218353         505942  2007-02-22 00:00:00            61.0   \n",
              "\n",
              "    potential preferred_foot attacking_work_rate defensive_work_rate  \\\n",
              "id                                                                     \n",
              "1        71.0          right              medium              medium   \n",
              "2        71.0          right              medium              medium   \n",
              "3        66.0          right              medium              medium   \n",
              "4        65.0          right              medium              medium   \n",
              "5        65.0          right              medium              medium   \n",
              "\n",
              "    crossing  finishing  ...  vision  penalties  marking  standing_tackle  \\\n",
              "id                       ...                                                \n",
              "1       49.0       44.0  ...    54.0       48.0     65.0             69.0   \n",
              "2       49.0       44.0  ...    54.0       48.0     65.0             69.0   \n",
              "3       49.0       44.0  ...    54.0       48.0     65.0             66.0   \n",
              "4       48.0       43.0  ...    53.0       47.0     62.0             63.0   \n",
              "5       48.0       43.0  ...    53.0       47.0     62.0             63.0   \n",
              "\n",
              "    sliding_tackle  gk_diving  gk_handling  gk_kicking  gk_positioning  \\\n",
              "id                                                                       \n",
              "1             69.0        6.0         11.0        10.0             8.0   \n",
              "2             69.0        6.0         11.0        10.0             8.0   \n",
              "3             69.0        6.0         11.0        10.0             8.0   \n",
              "4             66.0        5.0         10.0         9.0             7.0   \n",
              "5             66.0        5.0         10.0         9.0             7.0   \n",
              "\n",
              "    gk_reflexes  \n",
              "id               \n",
              "1           8.0  \n",
              "2           8.0  \n",
              "3           8.0  \n",
              "4           7.0  \n",
              "5           7.0  \n",
              "\n",
              "[5 rows x 41 columns]"
            ],
            "text/html": [
              "\n",
              "  <div id=\"df-75a3cdc2-03c5-409d-8e25-38ed8b358320\">\n",
              "    <div class=\"colab-df-container\">\n",
              "      <div>\n",
              "<style scoped>\n",
              "    .dataframe tbody tr th:only-of-type {\n",
              "        vertical-align: middle;\n",
              "    }\n",
              "\n",
              "    .dataframe tbody tr th {\n",
              "        vertical-align: top;\n",
              "    }\n",
              "\n",
              "    .dataframe thead th {\n",
              "        text-align: right;\n",
              "    }\n",
              "</style>\n",
              "<table border=\"1\" class=\"dataframe\">\n",
              "  <thead>\n",
              "    <tr style=\"text-align: right;\">\n",
              "      <th></th>\n",
              "      <th>player_fifa_api_id</th>\n",
              "      <th>player_api_id</th>\n",
              "      <th>date</th>\n",
              "      <th>overall_rating</th>\n",
              "      <th>potential</th>\n",
              "      <th>preferred_foot</th>\n",
              "      <th>attacking_work_rate</th>\n",
              "      <th>defensive_work_rate</th>\n",
              "      <th>crossing</th>\n",
              "      <th>finishing</th>\n",
              "      <th>...</th>\n",
              "      <th>vision</th>\n",
              "      <th>penalties</th>\n",
              "      <th>marking</th>\n",
              "      <th>standing_tackle</th>\n",
              "      <th>sliding_tackle</th>\n",
              "      <th>gk_diving</th>\n",
              "      <th>gk_handling</th>\n",
              "      <th>gk_kicking</th>\n",
              "      <th>gk_positioning</th>\n",
              "      <th>gk_reflexes</th>\n",
              "    </tr>\n",
              "    <tr>\n",
              "      <th>id</th>\n",
              "      <th></th>\n",
              "      <th></th>\n",
              "      <th></th>\n",
              "      <th></th>\n",
              "      <th></th>\n",
              "      <th></th>\n",
              "      <th></th>\n",
              "      <th></th>\n",
              "      <th></th>\n",
              "      <th></th>\n",
              "      <th></th>\n",
              "      <th></th>\n",
              "      <th></th>\n",
              "      <th></th>\n",
              "      <th></th>\n",
              "      <th></th>\n",
              "      <th></th>\n",
              "      <th></th>\n",
              "      <th></th>\n",
              "      <th></th>\n",
              "      <th></th>\n",
              "    </tr>\n",
              "  </thead>\n",
              "  <tbody>\n",
              "    <tr>\n",
              "      <th>1</th>\n",
              "      <td>218353</td>\n",
              "      <td>505942</td>\n",
              "      <td>2016-02-18 00:00:00</td>\n",
              "      <td>67.0</td>\n",
              "      <td>71.0</td>\n",
              "      <td>right</td>\n",
              "      <td>medium</td>\n",
              "      <td>medium</td>\n",
              "      <td>49.0</td>\n",
              "      <td>44.0</td>\n",
              "      <td>...</td>\n",
              "      <td>54.0</td>\n",
              "      <td>48.0</td>\n",
              "      <td>65.0</td>\n",
              "      <td>69.0</td>\n",
              "      <td>69.0</td>\n",
              "      <td>6.0</td>\n",
              "      <td>11.0</td>\n",
              "      <td>10.0</td>\n",
              "      <td>8.0</td>\n",
              "      <td>8.0</td>\n",
              "    </tr>\n",
              "    <tr>\n",
              "      <th>2</th>\n",
              "      <td>218353</td>\n",
              "      <td>505942</td>\n",
              "      <td>2015-11-19 00:00:00</td>\n",
              "      <td>67.0</td>\n",
              "      <td>71.0</td>\n",
              "      <td>right</td>\n",
              "      <td>medium</td>\n",
              "      <td>medium</td>\n",
              "      <td>49.0</td>\n",
              "      <td>44.0</td>\n",
              "      <td>...</td>\n",
              "      <td>54.0</td>\n",
              "      <td>48.0</td>\n",
              "      <td>65.0</td>\n",
              "      <td>69.0</td>\n",
              "      <td>69.0</td>\n",
              "      <td>6.0</td>\n",
              "      <td>11.0</td>\n",
              "      <td>10.0</td>\n",
              "      <td>8.0</td>\n",
              "      <td>8.0</td>\n",
              "    </tr>\n",
              "    <tr>\n",
              "      <th>3</th>\n",
              "      <td>218353</td>\n",
              "      <td>505942</td>\n",
              "      <td>2015-09-21 00:00:00</td>\n",
              "      <td>62.0</td>\n",
              "      <td>66.0</td>\n",
              "      <td>right</td>\n",
              "      <td>medium</td>\n",
              "      <td>medium</td>\n",
              "      <td>49.0</td>\n",
              "      <td>44.0</td>\n",
              "      <td>...</td>\n",
              "      <td>54.0</td>\n",
              "      <td>48.0</td>\n",
              "      <td>65.0</td>\n",
              "      <td>66.0</td>\n",
              "      <td>69.0</td>\n",
              "      <td>6.0</td>\n",
              "      <td>11.0</td>\n",
              "      <td>10.0</td>\n",
              "      <td>8.0</td>\n",
              "      <td>8.0</td>\n",
              "    </tr>\n",
              "    <tr>\n",
              "      <th>4</th>\n",
              "      <td>218353</td>\n",
              "      <td>505942</td>\n",
              "      <td>2015-03-20 00:00:00</td>\n",
              "      <td>61.0</td>\n",
              "      <td>65.0</td>\n",
              "      <td>right</td>\n",
              "      <td>medium</td>\n",
              "      <td>medium</td>\n",
              "      <td>48.0</td>\n",
              "      <td>43.0</td>\n",
              "      <td>...</td>\n",
              "      <td>53.0</td>\n",
              "      <td>47.0</td>\n",
              "      <td>62.0</td>\n",
              "      <td>63.0</td>\n",
              "      <td>66.0</td>\n",
              "      <td>5.0</td>\n",
              "      <td>10.0</td>\n",
              "      <td>9.0</td>\n",
              "      <td>7.0</td>\n",
              "      <td>7.0</td>\n",
              "    </tr>\n",
              "    <tr>\n",
              "      <th>5</th>\n",
              "      <td>218353</td>\n",
              "      <td>505942</td>\n",
              "      <td>2007-02-22 00:00:00</td>\n",
              "      <td>61.0</td>\n",
              "      <td>65.0</td>\n",
              "      <td>right</td>\n",
              "      <td>medium</td>\n",
              "      <td>medium</td>\n",
              "      <td>48.0</td>\n",
              "      <td>43.0</td>\n",
              "      <td>...</td>\n",
              "      <td>53.0</td>\n",
              "      <td>47.0</td>\n",
              "      <td>62.0</td>\n",
              "      <td>63.0</td>\n",
              "      <td>66.0</td>\n",
              "      <td>5.0</td>\n",
              "      <td>10.0</td>\n",
              "      <td>9.0</td>\n",
              "      <td>7.0</td>\n",
              "      <td>7.0</td>\n",
              "    </tr>\n",
              "  </tbody>\n",
              "</table>\n",
              "<p>5 rows × 41 columns</p>\n",
              "</div>\n",
              "      <button class=\"colab-df-convert\" onclick=\"convertToInteractive('df-75a3cdc2-03c5-409d-8e25-38ed8b358320')\"\n",
              "              title=\"Convert this dataframe to an interactive table.\"\n",
              "              style=\"display:none;\">\n",
              "        \n",
              "  <svg xmlns=\"http://www.w3.org/2000/svg\" height=\"24px\"viewBox=\"0 0 24 24\"\n",
              "       width=\"24px\">\n",
              "    <path d=\"M0 0h24v24H0V0z\" fill=\"none\"/>\n",
              "    <path d=\"M18.56 5.44l.94 2.06.94-2.06 2.06-.94-2.06-.94-.94-2.06-.94 2.06-2.06.94zm-11 1L8.5 8.5l.94-2.06 2.06-.94-2.06-.94L8.5 2.5l-.94 2.06-2.06.94zm10 10l.94 2.06.94-2.06 2.06-.94-2.06-.94-.94-2.06-.94 2.06-2.06.94z\"/><path d=\"M17.41 7.96l-1.37-1.37c-.4-.4-.92-.59-1.43-.59-.52 0-1.04.2-1.43.59L10.3 9.45l-7.72 7.72c-.78.78-.78 2.05 0 2.83L4 21.41c.39.39.9.59 1.41.59.51 0 1.02-.2 1.41-.59l7.78-7.78 2.81-2.81c.8-.78.8-2.07 0-2.86zM5.41 20L4 18.59l7.72-7.72 1.47 1.35L5.41 20z\"/>\n",
              "  </svg>\n",
              "      </button>\n",
              "      \n",
              "  <style>\n",
              "    .colab-df-container {\n",
              "      display:flex;\n",
              "      flex-wrap:wrap;\n",
              "      gap: 12px;\n",
              "    }\n",
              "\n",
              "    .colab-df-convert {\n",
              "      background-color: #E8F0FE;\n",
              "      border: none;\n",
              "      border-radius: 50%;\n",
              "      cursor: pointer;\n",
              "      display: none;\n",
              "      fill: #1967D2;\n",
              "      height: 32px;\n",
              "      padding: 0 0 0 0;\n",
              "      width: 32px;\n",
              "    }\n",
              "\n",
              "    .colab-df-convert:hover {\n",
              "      background-color: #E2EBFA;\n",
              "      box-shadow: 0px 1px 2px rgba(60, 64, 67, 0.3), 0px 1px 3px 1px rgba(60, 64, 67, 0.15);\n",
              "      fill: #174EA6;\n",
              "    }\n",
              "\n",
              "    [theme=dark] .colab-df-convert {\n",
              "      background-color: #3B4455;\n",
              "      fill: #D2E3FC;\n",
              "    }\n",
              "\n",
              "    [theme=dark] .colab-df-convert:hover {\n",
              "      background-color: #434B5C;\n",
              "      box-shadow: 0px 1px 3px 1px rgba(0, 0, 0, 0.15);\n",
              "      filter: drop-shadow(0px 1px 2px rgba(0, 0, 0, 0.3));\n",
              "      fill: #FFFFFF;\n",
              "    }\n",
              "  </style>\n",
              "\n",
              "      <script>\n",
              "        const buttonEl =\n",
              "          document.querySelector('#df-75a3cdc2-03c5-409d-8e25-38ed8b358320 button.colab-df-convert');\n",
              "        buttonEl.style.display =\n",
              "          google.colab.kernel.accessAllowed ? 'block' : 'none';\n",
              "\n",
              "        async function convertToInteractive(key) {\n",
              "          const element = document.querySelector('#df-75a3cdc2-03c5-409d-8e25-38ed8b358320');\n",
              "          const dataTable =\n",
              "            await google.colab.kernel.invokeFunction('convertToInteractive',\n",
              "                                                     [key], {});\n",
              "          if (!dataTable) return;\n",
              "\n",
              "          const docLinkHtml = 'Like what you see? Visit the ' +\n",
              "            '<a target=\"_blank\" href=https://colab.research.google.com/notebooks/data_table.ipynb>data table notebook</a>'\n",
              "            + ' to learn more about interactive tables.';\n",
              "          element.innerHTML = '';\n",
              "          dataTable['output_type'] = 'display_data';\n",
              "          await google.colab.output.renderOutput(dataTable, element);\n",
              "          const docLink = document.createElement('div');\n",
              "          docLink.innerHTML = docLinkHtml;\n",
              "          element.appendChild(docLink);\n",
              "        }\n",
              "      </script>\n",
              "    </div>\n",
              "  </div>\n",
              "  "
            ]
          },
          "metadata": {},
          "execution_count": 2
        }
      ],
      "source": [
        "data = pd.read_parquet('soccer.parquet')\n",
        "data.head()"
      ]
    },
    {
      "cell_type": "code",
      "execution_count": null,
      "id": "4b6f5b02",
      "metadata": {
        "colab": {
          "base_uri": "https://localhost:8080/"
        },
        "id": "4b6f5b02",
        "outputId": "9811ca26-aeb0-4358-8056-edf24dc3bbcd"
      },
      "outputs": [
        {
          "output_type": "execute_result",
          "data": {
            "text/plain": [
              "(183978, 180354)"
            ]
          },
          "metadata": {},
          "execution_count": 3
        }
      ],
      "source": [
        "len(data), len(data.dropna())"
      ]
    },
    {
      "cell_type": "markdown",
      "id": "3bec949d",
      "metadata": {
        "id": "3bec949d"
      },
      "source": [
        "## Step 2: Prepare\n",
        "- Explore data\n",
        "- Visualize ideas\n",
        "- Cleaning data"
      ]
    },
    {
      "cell_type": "markdown",
      "id": "6a5d948d",
      "metadata": {
        "id": "6a5d948d"
      },
      "source": [
        "### Step 2.a: Check the data types\n",
        "- This step tells you if some numeric column is not represented numeric.\n",
        "- Apply `info()` to get an idea of the data"
      ]
    },
    {
      "cell_type": "code",
      "execution_count": null,
      "id": "e2803901",
      "metadata": {
        "colab": {
          "base_uri": "https://localhost:8080/"
        },
        "id": "e2803901",
        "outputId": "22cee5d3-972a-4435-ed1c-bb28964a488e"
      },
      "outputs": [
        {
          "output_type": "stream",
          "name": "stdout",
          "text": [
            "<class 'pandas.core.frame.DataFrame'>\n",
            "Int64Index: 183978 entries, 1 to 183978\n",
            "Data columns (total 41 columns):\n",
            " #   Column               Non-Null Count   Dtype  \n",
            "---  ------               --------------   -----  \n",
            " 0   player_fifa_api_id   183978 non-null  int64  \n",
            " 1   player_api_id        183978 non-null  int64  \n",
            " 2   date                 183978 non-null  object \n",
            " 3   overall_rating       183142 non-null  float64\n",
            " 4   potential            183142 non-null  float64\n",
            " 5   preferred_foot       183142 non-null  object \n",
            " 6   attacking_work_rate  180748 non-null  object \n",
            " 7   defensive_work_rate  183142 non-null  object \n",
            " 8   crossing             183142 non-null  float64\n",
            " 9   finishing            183142 non-null  float64\n",
            " 10  heading_accuracy     183142 non-null  float64\n",
            " 11  short_passing        183142 non-null  float64\n",
            " 12  volleys              181265 non-null  float64\n",
            " 13  dribbling            183142 non-null  float64\n",
            " 14  curve                181265 non-null  float64\n",
            " 15  free_kick_accuracy   183142 non-null  float64\n",
            " 16  long_passing         183142 non-null  float64\n",
            " 17  ball_control         183142 non-null  float64\n",
            " 18  acceleration         183142 non-null  float64\n",
            " 19  sprint_speed         183142 non-null  float64\n",
            " 20  agility              181265 non-null  float64\n",
            " 21  reactions            183142 non-null  float64\n",
            " 22  balance              181265 non-null  float64\n",
            " 23  shot_power           183142 non-null  float64\n",
            " 24  jumping              181265 non-null  float64\n",
            " 25  stamina              183142 non-null  float64\n",
            " 26  strength             183142 non-null  float64\n",
            " 27  long_shots           183142 non-null  float64\n",
            " 28  aggression           183142 non-null  float64\n",
            " 29  interceptions        183142 non-null  float64\n",
            " 30  positioning          183142 non-null  float64\n",
            " 31  vision               181265 non-null  float64\n",
            " 32  penalties            183142 non-null  float64\n",
            " 33  marking              183142 non-null  float64\n",
            " 34  standing_tackle      183142 non-null  float64\n",
            " 35  sliding_tackle       181265 non-null  float64\n",
            " 36  gk_diving            183142 non-null  float64\n",
            " 37  gk_handling          183142 non-null  float64\n",
            " 38  gk_kicking           183142 non-null  float64\n",
            " 39  gk_positioning       183142 non-null  float64\n",
            " 40  gk_reflexes          183142 non-null  float64\n",
            "dtypes: float64(35), int64(2), object(4)\n",
            "memory usage: 59.0+ MB\n"
          ]
        }
      ],
      "source": [
        "data.info()"
      ]
    },
    {
      "cell_type": "markdown",
      "id": "2867789a",
      "metadata": {
        "id": "2867789a"
      },
      "source": [
        "### Step 2.b: Check for null (missing) values\n",
        "- Data often is missing entries - there can be many reasons for this\n",
        "- We need to deal with that (will do later in course)\n",
        "- Use ```.isnull().any()``` and `.isnull().sum()`"
      ]
    },
    {
      "cell_type": "code",
      "execution_count": null,
      "id": "10d0e875",
      "metadata": {
        "colab": {
          "base_uri": "https://localhost:8080/"
        },
        "id": "10d0e875",
        "outputId": "fbc85b55-bc2c-446a-ab05-93fb1994f480"
      },
      "outputs": [
        {
          "output_type": "execute_result",
          "data": {
            "text/plain": [
              "player_fifa_api_id     False\n",
              "player_api_id          False\n",
              "date                   False\n",
              "overall_rating          True\n",
              "potential               True\n",
              "preferred_foot          True\n",
              "attacking_work_rate     True\n",
              "defensive_work_rate     True\n",
              "crossing                True\n",
              "finishing               True\n",
              "heading_accuracy        True\n",
              "short_passing           True\n",
              "volleys                 True\n",
              "dribbling               True\n",
              "curve                   True\n",
              "free_kick_accuracy      True\n",
              "long_passing            True\n",
              "ball_control            True\n",
              "acceleration            True\n",
              "sprint_speed            True\n",
              "agility                 True\n",
              "reactions               True\n",
              "balance                 True\n",
              "shot_power              True\n",
              "jumping                 True\n",
              "stamina                 True\n",
              "strength                True\n",
              "long_shots              True\n",
              "aggression              True\n",
              "interceptions           True\n",
              "positioning             True\n",
              "vision                  True\n",
              "penalties               True\n",
              "marking                 True\n",
              "standing_tackle         True\n",
              "sliding_tackle          True\n",
              "gk_diving               True\n",
              "gk_handling             True\n",
              "gk_kicking              True\n",
              "gk_positioning          True\n",
              "gk_reflexes             True\n",
              "dtype: bool"
            ]
          },
          "metadata": {},
          "execution_count": 5
        }
      ],
      "source": [
        "data.isnull().any()"
      ]
    },
    {
      "cell_type": "code",
      "execution_count": null,
      "id": "e3d27dc7",
      "metadata": {
        "colab": {
          "base_uri": "https://localhost:8080/"
        },
        "id": "e3d27dc7",
        "outputId": "3abe9410-be1d-4a9c-9bc4-f5520f48d400"
      },
      "outputs": [
        {
          "output_type": "execute_result",
          "data": {
            "text/plain": [
              "player_fifa_api_id        0\n",
              "player_api_id             0\n",
              "date                      0\n",
              "overall_rating          836\n",
              "potential               836\n",
              "preferred_foot          836\n",
              "attacking_work_rate    3230\n",
              "defensive_work_rate     836\n",
              "crossing                836\n",
              "finishing               836\n",
              "heading_accuracy        836\n",
              "short_passing           836\n",
              "volleys                2713\n",
              "dribbling               836\n",
              "curve                  2713\n",
              "free_kick_accuracy      836\n",
              "long_passing            836\n",
              "ball_control            836\n",
              "acceleration            836\n",
              "sprint_speed            836\n",
              "agility                2713\n",
              "reactions               836\n",
              "balance                2713\n",
              "shot_power              836\n",
              "jumping                2713\n",
              "stamina                 836\n",
              "strength                836\n",
              "long_shots              836\n",
              "aggression              836\n",
              "interceptions           836\n",
              "positioning             836\n",
              "vision                 2713\n",
              "penalties               836\n",
              "marking                 836\n",
              "standing_tackle         836\n",
              "sliding_tackle         2713\n",
              "gk_diving               836\n",
              "gk_handling             836\n",
              "gk_kicking              836\n",
              "gk_positioning          836\n",
              "gk_reflexes             836\n",
              "dtype: int64"
            ]
          },
          "metadata": {},
          "execution_count": 6
        }
      ],
      "source": [
        "data.isnull().sum()"
      ]
    },
    {
      "cell_type": "markdown",
      "id": "137fdfde",
      "metadata": {
        "id": "137fdfde"
      },
      "source": [
        "### Step 2.c: Drop missing data\n",
        "- A great idea is to investigate missing data and outliers\n",
        "- But for this project we ignore it\n",
        "- Apply `dropna()`"
      ]
    },
    {
      "cell_type": "code",
      "execution_count": null,
      "id": "3e1eaca7",
      "metadata": {
        "id": "3e1eaca7"
      },
      "outputs": [],
      "source": [
        "data = data.dropna()"
      ]
    },
    {
      "cell_type": "markdown",
      "id": "599e5352",
      "metadata": {
        "id": "599e5352"
      },
      "source": [
        "### Step 2.d: Limite dataset size\n",
        "- This project is only for demonstration\n",
        "- Limit the dataset to the first 2000 rows\n",
        "    - HINT: `iloc[:2000]`"
      ]
    },
    {
      "cell_type": "code",
      "execution_count": null,
      "id": "de7d8519",
      "metadata": {
        "colab": {
          "base_uri": "https://localhost:8080/"
        },
        "id": "de7d8519",
        "outputId": "f59203d6-bae5-45e7-c587-903355b228be"
      },
      "outputs": [
        {
          "output_type": "execute_result",
          "data": {
            "text/plain": [
              "2000"
            ]
          },
          "metadata": {},
          "execution_count": 8
        }
      ],
      "source": [
        "data = data.iloc[:2000]\n",
        "len(data)"
      ]
    },
    {
      "cell_type": "markdown",
      "id": "8cc1cabe",
      "metadata": {
        "id": "8cc1cabe"
      },
      "source": [
        "## Step 3: Analyze\n",
        "- Feature selection\n",
        "- Model selection\n",
        "- Analyze data"
      ]
    },
    {
      "cell_type": "markdown",
      "id": "6600abc1",
      "metadata": {
        "id": "6600abc1"
      },
      "source": [
        "### Step 3.a: Feature Selection\n",
        "- The classifier we want to predict is `preferred_foot` (independent feature/classification)\n",
        "- For now we keep the other numeric features as depdent features\n",
        "    - HINT: Use `.info()` to see numeric columns\n",
        "    - HINT: Use `.drop([...], axis=1)`\n",
        "- Assign the dependent features to `X` and the independent feature to `y`"
      ]
    },
    {
      "cell_type": "code",
      "execution_count": null,
      "id": "f6eedc59",
      "metadata": {
        "colab": {
          "base_uri": "https://localhost:8080/"
        },
        "id": "f6eedc59",
        "outputId": "ec114d20-6ec5-4728-eb4f-4cf8e49cb7cc"
      },
      "outputs": [
        {
          "output_type": "stream",
          "name": "stdout",
          "text": [
            "<class 'pandas.core.frame.DataFrame'>\n",
            "Int64Index: 2000 entries, 1 to 2043\n",
            "Data columns (total 41 columns):\n",
            " #   Column               Non-Null Count  Dtype  \n",
            "---  ------               --------------  -----  \n",
            " 0   player_fifa_api_id   2000 non-null   int64  \n",
            " 1   player_api_id        2000 non-null   int64  \n",
            " 2   date                 2000 non-null   object \n",
            " 3   overall_rating       2000 non-null   float64\n",
            " 4   potential            2000 non-null   float64\n",
            " 5   preferred_foot       2000 non-null   object \n",
            " 6   attacking_work_rate  2000 non-null   object \n",
            " 7   defensive_work_rate  2000 non-null   object \n",
            " 8   crossing             2000 non-null   float64\n",
            " 9   finishing            2000 non-null   float64\n",
            " 10  heading_accuracy     2000 non-null   float64\n",
            " 11  short_passing        2000 non-null   float64\n",
            " 12  volleys              2000 non-null   float64\n",
            " 13  dribbling            2000 non-null   float64\n",
            " 14  curve                2000 non-null   float64\n",
            " 15  free_kick_accuracy   2000 non-null   float64\n",
            " 16  long_passing         2000 non-null   float64\n",
            " 17  ball_control         2000 non-null   float64\n",
            " 18  acceleration         2000 non-null   float64\n",
            " 19  sprint_speed         2000 non-null   float64\n",
            " 20  agility              2000 non-null   float64\n",
            " 21  reactions            2000 non-null   float64\n",
            " 22  balance              2000 non-null   float64\n",
            " 23  shot_power           2000 non-null   float64\n",
            " 24  jumping              2000 non-null   float64\n",
            " 25  stamina              2000 non-null   float64\n",
            " 26  strength             2000 non-null   float64\n",
            " 27  long_shots           2000 non-null   float64\n",
            " 28  aggression           2000 non-null   float64\n",
            " 29  interceptions        2000 non-null   float64\n",
            " 30  positioning          2000 non-null   float64\n",
            " 31  vision               2000 non-null   float64\n",
            " 32  penalties            2000 non-null   float64\n",
            " 33  marking              2000 non-null   float64\n",
            " 34  standing_tackle      2000 non-null   float64\n",
            " 35  sliding_tackle       2000 non-null   float64\n",
            " 36  gk_diving            2000 non-null   float64\n",
            " 37  gk_handling          2000 non-null   float64\n",
            " 38  gk_kicking           2000 non-null   float64\n",
            " 39  gk_positioning       2000 non-null   float64\n",
            " 40  gk_reflexes          2000 non-null   float64\n",
            "dtypes: float64(35), int64(2), object(4)\n",
            "memory usage: 656.2+ KB\n"
          ]
        }
      ],
      "source": [
        "data.info()"
      ]
    },
    {
      "cell_type": "code",
      "execution_count": null,
      "id": "1df916f0",
      "metadata": {
        "id": "1df916f0"
      },
      "outputs": [],
      "source": [
        "X = data.drop(['date', 'preferred_foot', 'attacking_work_rate', 'defensive_work_rate'], axis = 1)\n",
        "y = data['preferred_foot']"
      ]
    },
    {
      "cell_type": "markdown",
      "id": "2c1b5fc0",
      "metadata": {
        "id": "2c1b5fc0"
      },
      "source": [
        "### Step 3.b: Split into train and test\n",
        "- Use `train_test_split` to divide into train and test data.\n",
        "- A great thing is to use `random_state` to be able to reproduce while experimenting\n",
        "```Python\n",
        "X_train, X_test, y_train, y_test = train_test_split(X, y, test_size=0.25, random_state=42)\n",
        "```"
      ]
    },
    {
      "cell_type": "code",
      "execution_count": null,
      "id": "456a2933",
      "metadata": {
        "id": "456a2933"
      },
      "outputs": [],
      "source": [
        "X_train, X_test, y_train, y_test = train_test_split(X, y, test_size = .25, random_state = 42)"
      ]
    },
    {
      "cell_type": "markdown",
      "id": "10fb4b4c",
      "metadata": {
        "id": "10fb4b4c"
      },
      "source": [
        "### Step 3.c: Normalize data\n",
        "- Create a `MinMaxScaler()`\n",
        "- Fit it on the `X_train` dataset\n",
        "- Then transform `X_train` and `X_test`\n",
        "- Remember to assign the results to unique variables"
      ]
    },
    {
      "cell_type": "code",
      "execution_count": null,
      "id": "e3d3492a",
      "metadata": {
        "id": "e3d3492a"
      },
      "outputs": [],
      "source": [
        "norm = MinMaxScaler().fit(X_train)\n",
        "\n",
        "X_train_norm = norm.transform(X_train)\n",
        "X_test_norm = norm.transform(X_test)"
      ]
    },
    {
      "cell_type": "markdown",
      "id": "ae1c0e31",
      "metadata": {
        "id": "ae1c0e31"
      },
      "source": [
        "### Step 3.c: Standardize data\n",
        "- Create a `StandardScaler()`\n",
        "- Fit it on the `X_train` dataset\n",
        "- Then transform `X_train` and `X_test`\n",
        "- Remember to assign the results to unique variables"
      ]
    },
    {
      "cell_type": "code",
      "execution_count": null,
      "id": "15c37ae6",
      "metadata": {
        "id": "15c37ae6"
      },
      "outputs": [],
      "source": [
        "stand = StandardScaler().fit(X_train)\n",
        "\n",
        "X_train_stand = stand.transform(X_train)\n",
        "X_test_stand = stand.transform(X_test)"
      ]
    },
    {
      "cell_type": "markdown",
      "id": "b36b02f4",
      "metadata": {
        "id": "b36b02f4"
      },
      "source": [
        "### Step 3.d: Compare sets\n",
        "- For the Original, Normalized, and Standardized datasets\n",
        "    - Create a `SVM` model and fit it\n",
        "    - Predict values to calculate an accuracy score\n",
        "- HINT: For each dataset be inspired by this\n",
        "```Python\n",
        "svc = SVC()\n",
        "svc.fit(X_train, y_train)\n",
        "y_pred = svc.predict(X_test)\n",
        "accuracy_score(y_test, y_pred)\n",
        "```"
      ]
    },
    {
      "cell_type": "code",
      "execution_count": null,
      "id": "6345e7e4",
      "metadata": {
        "id": "6345e7e4"
      },
      "outputs": [],
      "source": [
        "score=[]\n",
        "\n",
        "trainX = [X_train, X_train_norm, X_train_stand]\n",
        "testX = [X_test, X_test_norm, X_test_stand]\n",
        "\n",
        "for X_train_set, X_test_set in zip(trainX, testX):\n",
        "  svc = SVC()\n",
        "\n",
        "  svc.fit(X_train_set, y_train)\n",
        "  y_pred = svc.predict(X_test_set)\n",
        "  score.append(accuracy_score(y_test, y_pred))"
      ]
    },
    {
      "cell_type": "code",
      "execution_count": null,
      "id": "fa5fafc1",
      "metadata": {
        "colab": {
          "base_uri": "https://localhost:8080/",
          "height": 143
        },
        "id": "fa5fafc1",
        "outputId": "6b4e86ad-0118-4e7d-9550-86835cbee254"
      },
      "outputs": [
        {
          "output_type": "execute_result",
          "data": {
            "text/plain": [
              "              score\n",
              "Organized     0.768\n",
              "Normalized    0.928\n",
              "Standardized  0.954"
            ],
            "text/html": [
              "\n",
              "  <div id=\"df-998826de-5f7f-4a9f-ab29-7deda06822cb\">\n",
              "    <div class=\"colab-df-container\">\n",
              "      <div>\n",
              "<style scoped>\n",
              "    .dataframe tbody tr th:only-of-type {\n",
              "        vertical-align: middle;\n",
              "    }\n",
              "\n",
              "    .dataframe tbody tr th {\n",
              "        vertical-align: top;\n",
              "    }\n",
              "\n",
              "    .dataframe thead th {\n",
              "        text-align: right;\n",
              "    }\n",
              "</style>\n",
              "<table border=\"1\" class=\"dataframe\">\n",
              "  <thead>\n",
              "    <tr style=\"text-align: right;\">\n",
              "      <th></th>\n",
              "      <th>score</th>\n",
              "    </tr>\n",
              "  </thead>\n",
              "  <tbody>\n",
              "    <tr>\n",
              "      <th>Organized</th>\n",
              "      <td>0.768</td>\n",
              "    </tr>\n",
              "    <tr>\n",
              "      <th>Normalized</th>\n",
              "      <td>0.928</td>\n",
              "    </tr>\n",
              "    <tr>\n",
              "      <th>Standardized</th>\n",
              "      <td>0.954</td>\n",
              "    </tr>\n",
              "  </tbody>\n",
              "</table>\n",
              "</div>\n",
              "      <button class=\"colab-df-convert\" onclick=\"convertToInteractive('df-998826de-5f7f-4a9f-ab29-7deda06822cb')\"\n",
              "              title=\"Convert this dataframe to an interactive table.\"\n",
              "              style=\"display:none;\">\n",
              "        \n",
              "  <svg xmlns=\"http://www.w3.org/2000/svg\" height=\"24px\"viewBox=\"0 0 24 24\"\n",
              "       width=\"24px\">\n",
              "    <path d=\"M0 0h24v24H0V0z\" fill=\"none\"/>\n",
              "    <path d=\"M18.56 5.44l.94 2.06.94-2.06 2.06-.94-2.06-.94-.94-2.06-.94 2.06-2.06.94zm-11 1L8.5 8.5l.94-2.06 2.06-.94-2.06-.94L8.5 2.5l-.94 2.06-2.06.94zm10 10l.94 2.06.94-2.06 2.06-.94-2.06-.94-.94-2.06-.94 2.06-2.06.94z\"/><path d=\"M17.41 7.96l-1.37-1.37c-.4-.4-.92-.59-1.43-.59-.52 0-1.04.2-1.43.59L10.3 9.45l-7.72 7.72c-.78.78-.78 2.05 0 2.83L4 21.41c.39.39.9.59 1.41.59.51 0 1.02-.2 1.41-.59l7.78-7.78 2.81-2.81c.8-.78.8-2.07 0-2.86zM5.41 20L4 18.59l7.72-7.72 1.47 1.35L5.41 20z\"/>\n",
              "  </svg>\n",
              "      </button>\n",
              "      \n",
              "  <style>\n",
              "    .colab-df-container {\n",
              "      display:flex;\n",
              "      flex-wrap:wrap;\n",
              "      gap: 12px;\n",
              "    }\n",
              "\n",
              "    .colab-df-convert {\n",
              "      background-color: #E8F0FE;\n",
              "      border: none;\n",
              "      border-radius: 50%;\n",
              "      cursor: pointer;\n",
              "      display: none;\n",
              "      fill: #1967D2;\n",
              "      height: 32px;\n",
              "      padding: 0 0 0 0;\n",
              "      width: 32px;\n",
              "    }\n",
              "\n",
              "    .colab-df-convert:hover {\n",
              "      background-color: #E2EBFA;\n",
              "      box-shadow: 0px 1px 2px rgba(60, 64, 67, 0.3), 0px 1px 3px 1px rgba(60, 64, 67, 0.15);\n",
              "      fill: #174EA6;\n",
              "    }\n",
              "\n",
              "    [theme=dark] .colab-df-convert {\n",
              "      background-color: #3B4455;\n",
              "      fill: #D2E3FC;\n",
              "    }\n",
              "\n",
              "    [theme=dark] .colab-df-convert:hover {\n",
              "      background-color: #434B5C;\n",
              "      box-shadow: 0px 1px 3px 1px rgba(0, 0, 0, 0.15);\n",
              "      filter: drop-shadow(0px 1px 2px rgba(0, 0, 0, 0.3));\n",
              "      fill: #FFFFFF;\n",
              "    }\n",
              "  </style>\n",
              "\n",
              "      <script>\n",
              "        const buttonEl =\n",
              "          document.querySelector('#df-998826de-5f7f-4a9f-ab29-7deda06822cb button.colab-df-convert');\n",
              "        buttonEl.style.display =\n",
              "          google.colab.kernel.accessAllowed ? 'block' : 'none';\n",
              "\n",
              "        async function convertToInteractive(key) {\n",
              "          const element = document.querySelector('#df-998826de-5f7f-4a9f-ab29-7deda06822cb');\n",
              "          const dataTable =\n",
              "            await google.colab.kernel.invokeFunction('convertToInteractive',\n",
              "                                                     [key], {});\n",
              "          if (!dataTable) return;\n",
              "\n",
              "          const docLinkHtml = 'Like what you see? Visit the ' +\n",
              "            '<a target=\"_blank\" href=https://colab.research.google.com/notebooks/data_table.ipynb>data table notebook</a>'\n",
              "            + ' to learn more about interactive tables.';\n",
              "          element.innerHTML = '';\n",
              "          dataTable['output_type'] = 'display_data';\n",
              "          await google.colab.output.renderOutput(dataTable, element);\n",
              "          const docLink = document.createElement('div');\n",
              "          docLink.innerHTML = docLinkHtml;\n",
              "          element.appendChild(docLink);\n",
              "        }\n",
              "      </script>\n",
              "    </div>\n",
              "  </div>\n",
              "  "
            ]
          },
          "metadata": {},
          "execution_count": 18
        }
      ],
      "source": [
        "pd.DataFrame({'score': score}, index = ['Organized', 'Normalized', 'Standardized'])"
      ]
    },
    {
      "cell_type": "code",
      "execution_count": null,
      "id": "74e28dbd",
      "metadata": {
        "id": "74e28dbd"
      },
      "outputs": [],
      "source": []
    },
    {
      "cell_type": "markdown",
      "id": "9308daea",
      "metadata": {
        "id": "9308daea"
      },
      "source": [
        "### Step 3.e: Finding most important feature\n",
        "- We now know that the features can predict if a player is left-footed\n",
        "- Now we need to find the most important features\n",
        "- [`permutation_importance`](https://scikit-learn.org/stable/modules/generated/sklearn.inspection.permutation_importance.html) Permutation importance for feature evaluation.\n",
        "- We will use the standardized data and fit a new `SVC` model\n",
        "- Then use the `permutation_importance` to calculate it.\n",
        "```Python\n",
        "perm_importance = permutation_importance(svc, X_test_stand, y_test)\n",
        "```\n",
        "- The results will be found in `perm_importance.importances_mean`"
      ]
    },
    {
      "cell_type": "code",
      "execution_count": null,
      "id": "a9716eb3",
      "metadata": {
        "colab": {
          "base_uri": "https://localhost:8080/"
        },
        "id": "a9716eb3",
        "outputId": "45874aa2-db4b-4823-9f86-8bddff4ab6eb"
      },
      "outputs": [
        {
          "output_type": "execute_result",
          "data": {
            "text/plain": [
              "array([ 0.01  ,  0.01  ,  0.0016,  0.0064,  0.016 ,  0.0004,  0.0164,\n",
              "        0.0024,  0.0604,  0.002 ,  0.026 ,  0.0036,  0.0604,  0.0116,\n",
              "        0.006 ,  0.0064,  0.0088,  0.006 ,  0.0048,  0.0104,  0.0028,\n",
              "        0.008 ,  0.058 ,  0.002 ,  0.0184,  0.014 ,  0.0152,  0.0204,\n",
              "        0.0084, -0.0028,  0.0092, -0.0068,  0.0008,  0.0032,  0.0128,\n",
              "        0.0064,  0.0076])"
            ]
          },
          "metadata": {},
          "execution_count": 19
        }
      ],
      "source": [
        "svc = SVC()\n",
        "svc.fit(X_train_stand, y_train)\n",
        "\n",
        "perm_importance = permutation_importance(svc, X_test_stand, y_test)\n",
        "perm_importance.importances_mean"
      ]
    },
    {
      "cell_type": "markdown",
      "id": "2f2f8ce9",
      "metadata": {
        "id": "2f2f8ce9"
      },
      "source": [
        "### Step 3.f: Visualize the results\n",
        "- To visualize the result we want the most important features sorted\n",
        "- This can be `perm_importance.importances_mean.argsort()`\n",
        "    - HINT: assign it to `sorted_idx`\n",
        "- Then to visualize it we will create a DataFrame\n",
        "```Python\n",
        "pd.DataFrame(perm_importance.importances_mean[sorted_idx], X_test.columns[sorted_idx], columns=['Value'])\n",
        "```\n",
        "- Then make a `barh` plot (use `figsize`)"
      ]
    },
    {
      "cell_type": "code",
      "execution_count": null,
      "id": "a36dcba6",
      "metadata": {
        "colab": {
          "base_uri": "https://localhost:8080/",
          "height": 609
        },
        "id": "a36dcba6",
        "outputId": "57a70cc9-6db3-47e9-df07-93c34502570d"
      },
      "outputs": [
        {
          "output_type": "execute_result",
          "data": {
            "text/plain": [
              "<matplotlib.axes._subplots.AxesSubplot at 0x7f42484c9850>"
            ]
          },
          "metadata": {},
          "execution_count": 21
        },
        {
          "output_type": "display_data",
          "data": {
            "text/plain": [
              "<Figure size 720x720 with 1 Axes>"
            ],
            "image/png": "[encoded data removed]"
          },
          "metadata": {
            "needs_background": "light"
          }
        }
      ],
      "source": [
        "sorted_idx = perm_importance.importances_mean.argsort()\n",
        "\n",
        "df = pd.DataFrame(perm_importance.importances_mean[sorted_idx], X_test.columns[sorted_idx], columns=['Value'])\n",
        "df.plot.barh(figsize = (10,10))"
      ]
    },
    {
      "cell_type": "markdown",
      "id": "98a71ee2",
      "metadata": {
        "id": "98a71ee2"
      },
      "source": [
        "## Step 4: Report\n",
        "- Present findings\n",
        "- Visualize results\n",
        "- Credibility counts"
      ]
    },
    {
      "cell_type": "markdown",
      "id": "4f53c2de",
      "metadata": {
        "id": "4f53c2de"
      },
      "source": [
        "### Step 4.a: Present findings\n",
        "- There are many ways to present the findings.\n",
        "- Be creative\n",
        "- Ideas\n",
        "    - Explore how the features are related to the value"
      ]
    },
    {
      "cell_type": "code",
      "execution_count": null,
      "id": "dd2ed39c",
      "metadata": {
        "id": "dd2ed39c"
      },
      "outputs": [],
      "source": []
    },
    {
      "cell_type": "code",
      "execution_count": null,
      "id": "65201e3d",
      "metadata": {
        "id": "65201e3d"
      },
      "outputs": [],
      "source": []
    },
    {
      "cell_type": "markdown",
      "id": "65c865f1",
      "metadata": {
        "id": "65c865f1"
      },
      "source": [
        "## Step 5: Actions\n",
        "- Use insights\n",
        "- Measure impact\n",
        "- Main goal"
      ]
    },
    {
      "cell_type": "markdown",
      "id": "f52b3d89",
      "metadata": {
        "id": "f52b3d89"
      },
      "source": [
        "### Step 5.a: Reflection\n",
        "- There might not be any actions?"
      ]
    },
    {
      "cell_type": "code",
      "execution_count": null,
      "id": "18215cc3",
      "metadata": {
        "id": "18215cc3"
      },
      "outputs": [],
      "source": []
    },
    {
      "cell_type": "code",
      "execution_count": null,
      "id": "5d2a2e98",
      "metadata": {
        "id": "5d2a2e98"
      },
      "outputs": [],
      "source": []
    }
  ],
  "metadata": {
    "kernelspec": {
      "display_name": "Python 3 (ipykernel)",
      "language": "python",
      "name": "python3"
    },
    "language_info": {
      "codemirror_mode": {
        "name": "ipython",
        "version": 3
      },
      "file_extension": ".py",
      "mimetype": "text/x-python",
      "name": "python",
      "nbconvert_exporter": "python",
      "pygments_lexer": "ipython3",
      "version": "3.9.10"
    },
    "colab": {
      "provenance": [],
      "include_colab_link": true
    }
  },
  "nbformat": 4,
  "nbformat_minor": 5
}